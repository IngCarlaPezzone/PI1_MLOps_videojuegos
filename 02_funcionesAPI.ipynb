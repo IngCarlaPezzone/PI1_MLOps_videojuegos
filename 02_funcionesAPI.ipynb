{
 "cells": [
  {
   "cell_type": "markdown",
   "metadata": {},
   "source": [
    "# Experimentación para crear las funciones requeridas para la API"
   ]
  },
  {
   "cell_type": "markdown",
   "metadata": {},
   "source": [
    "En esta Jupyter Notebook se desarrollan y prueban las funciones que son solicitadas para la API. Luego, al momento del deployarlas es posible que sufran algunos cambios en función de los requerimientos propios de FastAPI o Render."
   ]
  },
  {
   "cell_type": "markdown",
   "metadata": {},
   "source": [
    "## Importaciones"
   ]
  },
  {
   "cell_type": "code",
   "execution_count": 2,
   "metadata": {},
   "outputs": [],
   "source": [
    "import pandas as pd\n",
    "\n",
    "%load_ext autoreload\n",
    "%autoreload 2\n",
    "import utils\n",
    "\n",
    "import warnings\n",
    "warnings.filterwarnings(\"ignore\")"
   ]
  },
  {
   "cell_type": "markdown",
   "metadata": {},
   "source": [
    "## Carga de los dataset necesarios"
   ]
  },
  {
   "cell_type": "markdown",
   "metadata": {},
   "source": [
    "Se cargan los conjuntos de datos necesarios para llevar a cabo las consultas solicitadas. Se decide subir los datos de esta manera, y no los dataset completos, debido a la limitada capacidad de almacenamiento que permite Render. Por otra parte, considerando que el objetivo es entregar un PVM, a modo de prueba de concepto, se consideró adecuada esta simplificación de los datasets.\n",
    "\n",
    "Los  dataset que se utilizan son:\n",
    "\n",
    "* **df_reviews_unido**: contiene la información relacionada a los usuarios que realizan reviews de los juegos en formato de análisis de sentimientos. Entre esta información, se encuentran las recomendaciones o no del juego por parte de usuario, la fecha del review así como datos del usuario como su id, su url del perfil.\n",
    "* **df_gastos_items**: contiene la cantidad de items que consume cada usuario y el precio de cada uno de los productos que consume.\n",
    "* **df_playtime_forever**: contiene para cada usuario su identificación, la url de su perfil, la cantidad de horas jugadas por cada género de juego.\n",
    "* **genre_ranking**: contiene el ranking de los géneros de juegos con mas horas jugadas.\n",
    "* **df_items_developer**: contiene la información relacionada con cada item de juegos como su id, precio, desarrollador y año de lanzamiento."
   ]
  },
  {
   "cell_type": "code",
   "execution_count": 3,
   "metadata": {},
   "outputs": [],
   "source": [
    "df_reviews = pd.read_csv('data/df_reviews_unido.csv')\n",
    "df_gastos_items = pd.read_csv('data/df_gastos_items_unido.csv')\n",
    "df_playtime_forever = pd.read_csv('data/df_playtime_forever_unido.csv')\n",
    "genre_ranking = pd.read_csv('data/df_genre_ranking_unido.csv')\n",
    "df_items_developer = pd.read_csv('data/df_items_developer_unido.csv')"
   ]
  },
  {
   "cell_type": "markdown",
   "metadata": {},
   "source": [
    "A continuación, se desarrollan cada una de las funciones solicitadas."
   ]
  },
  {
   "cell_type": "markdown",
   "metadata": {},
   "source": [
    "## userdata"
   ]
  },
  {
   "cell_type": "markdown",
   "metadata": {},
   "source": [
    "Esta función tiene por parámentro 'user_id' y debe devolver cantidad de dinero gastado por el usuario, el porcentaje de recomendaciónes que realizó sobre la cantidad de reviews que se analizan y la cantidad de items que consume el mismo."
   ]
  },
  {
   "cell_type": "code",
   "execution_count": 4,
   "metadata": {},
   "outputs": [],
   "source": [
    "def userdata(user_id):\n",
    "    \n",
    "    # Filtra por el usuario de interés\n",
    "    usuario = df_reviews[df_reviews['user_id'] == user_id]\n",
    "    # Calcula la cantidad de dinero gastado para el usuario de interés\n",
    "    cantidad_dinero = df_gastos_items[df_gastos_items['user_id']== user_id]['price'].iloc[0]\n",
    "    # Busca el count_item para el usuario de interés    \n",
    "    count_items = df_gastos_items[df_gastos_items['user_id']== user_id]['items_count'].iloc[0]\n",
    "    \n",
    "    # Calcula el total de recomendaciones realizadas por el usuario de interés\n",
    "    total_recomendaciones = usuario['reviews_recommend'].sum()\n",
    "    # Calcula el total de reviews realizada por todos los usuarios\n",
    "    total_reviews = len(df_reviews['user_id'].unique())\n",
    "    # Calcula el porcentaje de recomendaciones realizadas por el usuario de interés\n",
    "    porcentaje_recomendaciones = (total_recomendaciones / total_reviews) * 100\n",
    "    \n",
    "    return {\n",
    "        'cantidad_dinero': cantidad_dinero,\n",
    "        'porcentaje_recomendacion': round(porcentaje_recomendaciones, 2),\n",
    "        'total_items': count_items.astype(int)\n",
    "    }"
   ]
  },
  {
   "cell_type": "code",
   "execution_count": 5,
   "metadata": {},
   "outputs": [
    {
     "data": {
      "text/plain": [
       "{'cantidad_dinero': 189.84,\n",
       " 'porcentaje_recomendacion': 0.03,\n",
       " 'total_items': 23}"
      ]
     },
     "execution_count": 5,
     "metadata": {},
     "output_type": "execute_result"
    }
   ],
   "source": [
    "user_id = 'EchoXSilence'\n",
    "userdata(user_id)"
   ]
  },
  {
   "cell_type": "markdown",
   "metadata": {},
   "source": [
    "## countreviews"
   ]
  },
  {
   "cell_type": "markdown",
   "metadata": {},
   "source": [
    "En esta función se ingresan dos fechas entre las que se quiere hacer una consulta y devuelve la cantidad de usuarios que realizaron reviews entre dichas fechas y, el porcentaje de las recomendaciones positivas (True) que los mismos hicieron."
   ]
  },
  {
   "cell_type": "code",
   "execution_count": 6,
   "metadata": {},
   "outputs": [],
   "source": [
    "def countreviews(fecha_inicio, fecha_fin):\n",
    "    \n",
    "    # Filtra el dataframe entre las fechas de interés\n",
    "    user_data_entre_fechas = df_reviews[(df_reviews['reviews_date'] >= fecha_inicio) & (df_reviews['reviews_date'] <= fecha_fin)]\n",
    "    # Calcula la cantidad de usuarios que dieron reviews entre las fechas de interés\n",
    "    total_usuarios = user_data_entre_fechas['user_id'].nunique()\n",
    "    # Calcula el total de recomendaciones entre las fechas de interes (True + False)\n",
    "    total_recomendacion = len(user_data_entre_fechas)\n",
    "    # Calcula la cantidad de recomendaciones positivas que que hicieron entre las fechas de interés\n",
    "    total_recomendaciones_True = user_data_entre_fechas['reviews_recommend'].sum()\n",
    "    # Calcula el porcentaje de recomendación realizadas entre el total de usuarios\n",
    "    porcentaje_recomendaciones = (total_recomendaciones_True / total_recomendacion) * 100\n",
    "    \n",
    "    return {\n",
    "        'total_usuarios_reviews': total_usuarios,\n",
    "        'porcentaje_recomendaciones': round(porcentaje_recomendaciones,2)\n",
    "    }"
   ]
  },
  {
   "cell_type": "code",
   "execution_count": 7,
   "metadata": {},
   "outputs": [
    {
     "data": {
      "text/plain": [
       "{'total_usuarios_reviews': 822, 'porcentaje_recomendaciones': 98.73}"
      ]
     },
     "execution_count": 7,
     "metadata": {},
     "output_type": "execute_result"
    }
   ],
   "source": [
    "countreviews('2011-11-05', '2012-12-24')"
   ]
  },
  {
   "cell_type": "markdown",
   "metadata": {},
   "source": [
    "## genre"
   ]
  },
  {
   "cell_type": "markdown",
   "metadata": {},
   "source": [
    "Esta función recibe como parámetro un género de videojuego y devuelve el puesto en el que se encuentra dicho género sobre un ranking de los mismos analizando la cantidad de horas jugadas para cada uno."
   ]
  },
  {
   "cell_type": "code",
   "execution_count": 8,
   "metadata": {},
   "outputs": [],
   "source": [
    "def genre(genero):\n",
    "    # Busca el ranking para el género de interés\n",
    "    rank = genre_ranking[genre_ranking['genres'] == genero]['ranking'].iloc[0]\n",
    "    return {\n",
    "        'rank': rank\n",
    "    }"
   ]
  },
  {
   "cell_type": "code",
   "execution_count": 9,
   "metadata": {},
   "outputs": [
    {
     "data": {
      "text/plain": [
       "{'rank': 5}"
      ]
     },
     "execution_count": 9,
     "metadata": {},
     "output_type": "execute_result"
    }
   ],
   "source": [
    "genero = 'Simulation'\n",
    "genre(genero)"
   ]
  },
  {
   "cell_type": "markdown",
   "metadata": {},
   "source": [
    "## userforgenre"
   ]
  },
  {
   "cell_type": "markdown",
   "metadata": {},
   "source": [
    "Esta función recibe como parámetro el género de un videojuego y devuelve el top 5 de los usuarios con más horas de juego en el género ingresado, indicando el id del usuario y el url de su perfil."
   ]
  },
  {
   "cell_type": "code",
   "execution_count": 10,
   "metadata": {},
   "outputs": [],
   "source": [
    "def userforgenre(genero):\n",
    "    # Filtra el dataframe por el género de interés\n",
    "    data_por_genero = df_playtime_forever[df_playtime_forever['genres'] == genero]\n",
    "    # Agrupa el dataframe filtrado por usuario y suma la cantidad de horas\n",
    "    top_users = data_por_genero.groupby(['user_url', 'user_id'])['playtime_horas'].sum().nlargest(5).reset_index()\n",
    "    \n",
    "    # Se hace un diccionario vacío para guardar los datos que se necesitan\n",
    "    top_users_dict = {}\n",
    "    for index, row in top_users.iterrows():\n",
    "        # User info recorre cada fila del top 5 y lo guarda en el diccionario\n",
    "        user_info = {\n",
    "            'user_id': row['user_id'],\n",
    "            'user_url': row['user_url']\n",
    "        }\n",
    "        top_users_dict[index + 1] = user_info\n",
    "    \n",
    "    return top_users_dict"
   ]
  },
  {
   "cell_type": "code",
   "execution_count": 11,
   "metadata": {},
   "outputs": [
    {
     "data": {
      "text/plain": [
       "{1: {'user_id': 'Sp3ctre', 'user_url': 'http://steamcommunity.com/id/Sp3ctre'},\n",
       " 2: {'user_id': 'shinomegami',\n",
       "  'user_url': 'http://steamcommunity.com/id/shinomegami'},\n",
       " 3: {'user_id': 'REBAS_AS_F-T',\n",
       "  'user_url': 'http://steamcommunity.com/id/REBAS_AS_F-T'},\n",
       " 4: {'user_id': 'Terminally-Chill',\n",
       "  'user_url': 'http://steamcommunity.com/id/Terminally-Chill'},\n",
       " 5: {'user_id': 'DownSyndromeKid',\n",
       "  'user_url': 'http://steamcommunity.com/id/DownSyndromeKid'}}"
      ]
     },
     "execution_count": 11,
     "metadata": {},
     "output_type": "execute_result"
    }
   ],
   "source": [
    "genero = 'Action'\n",
    "userforgenre(genero)"
   ]
  },
  {
   "cell_type": "markdown",
   "metadata": {},
   "source": [
    "## developer"
   ]
  },
  {
   "cell_type": "markdown",
   "metadata": {},
   "source": [
    "Esta función recibe como parámetro 'developer' que es la empresa desarrolladora del juego y devuelve la cantidad de items que desarrolla dicha empresa y el porcentaje de contenido Free por año según empresa desarrolladora."
   ]
  },
  {
   "cell_type": "code",
   "execution_count": 12,
   "metadata": {},
   "outputs": [],
   "source": [
    "def developer(desarrollador):\n",
    "    # Filtra el dataframe por desarrollador de interés\n",
    "    data_filtrada = df_items_developer[df_items_developer['developer'] == desarrollador]\n",
    "    # Calcula la cantidad de items por año\n",
    "    cantidad_por_año = data_filtrada.groupby('release_anio')['item_id'].count()\n",
    "    # Calcula la cantidad de elementos gratis por año\n",
    "    cantidad_gratis_por_año = data_filtrada[data_filtrada['price'] == 0.0].groupby('release_anio')['item_id'].count()\n",
    "    # Calcula el porcentaje de elementos gratis por año\n",
    "    porcentaje_gratis_por_año = (cantidad_gratis_por_año / cantidad_por_año * 100).fillna(0).astype(int)\n",
    "\n",
    "    result_dict = {\n",
    "        'cantidad_por_año': cantidad_por_año.to_dict(),\n",
    "        'porcentaje_gratis_por_año': porcentaje_gratis_por_año.to_dict()\n",
    "    }\n",
    "    \n",
    "    return result_dict"
   ]
  },
  {
   "cell_type": "code",
   "execution_count": 13,
   "metadata": {},
   "outputs": [
    {
     "data": {
      "text/plain": [
       "{'cantidad_por_año': {'2016': 2, '2017': 1},\n",
       " 'porcentaje_gratis_por_año': {'2016': 50, '2017': 0}}"
      ]
     },
     "execution_count": 13,
     "metadata": {},
     "output_type": "execute_result"
    }
   ],
   "source": [
    "desarrollador = 'Mechanical Boss'\n",
    "developer(desarrollador)"
   ]
  },
  {
   "cell_type": "markdown",
   "metadata": {},
   "source": [
    "## sentiment_analysis"
   ]
  },
  {
   "cell_type": "markdown",
   "metadata": {},
   "source": [
    "Esta función recibe como parámetro el año de lanzamiento de un juego y según ese año devuelve una lista con la cantidad de registros de reseñas de usuarios que se encuentren categorizados con un análisis de sentimiento, como Negativo, Neutral y Positivo."
   ]
  },
  {
   "cell_type": "code",
   "execution_count": 21,
   "metadata": {},
   "outputs": [],
   "source": [
    "def sentiment_analysis(anio):\n",
    "    # Filtrar las reseñas del desarrollador específico\n",
    "    anio_reviews = df_reviews[df_reviews['release_anio'] == str(anio)]\n",
    "    \n",
    "    # Inicializar un diccionario para contar las categorías de sentimiento\n",
    "    sentiment_counts = {'Negative': 0, 'Neutral': 0, 'Positive': 0}\n",
    "    \n",
    "    # Iterar a través de las reseñas del desarrollador\n",
    "    for index, row in anio_reviews.iterrows():\n",
    "        sentiment = row['sentiment_analysis']\n",
    "        sentiment_category = ''\n",
    "        \n",
    "        # Asignar la categoría de sentimiento correspondiente\n",
    "        if sentiment == 0:\n",
    "            sentiment_category = 'Negative'\n",
    "        elif sentiment == 1:\n",
    "            sentiment_category = 'Neutral'\n",
    "        elif sentiment == 2:\n",
    "            sentiment_category = 'Positive'\n",
    "        \n",
    "        # Incrementar el contador correspondiente en el diccionario\n",
    "        sentiment_counts[sentiment_category] += 1\n",
    "    \n",
    "    return sentiment_counts"
   ]
  },
  {
   "cell_type": "code",
   "execution_count": 22,
   "metadata": {},
   "outputs": [
    {
     "data": {
      "text/plain": [
       "{'Negative': 149, 'Neutral': 1178, 'Positive': 589}"
      ]
     },
     "execution_count": 22,
     "metadata": {},
     "output_type": "execute_result"
    }
   ],
   "source": [
    "anio = 2009\n",
    "sentiment_analysis(anio)"
   ]
  }
 ],
 "metadata": {
  "kernelspec": {
   "display_name": "mlenv",
   "language": "python",
   "name": "python3"
  },
  "language_info": {
   "codemirror_mode": {
    "name": "ipython",
    "version": 3
   },
   "file_extension": ".py",
   "mimetype": "text/x-python",
   "name": "python",
   "nbconvert_exporter": "python",
   "pygments_lexer": "ipython3",
   "version": "3.10.12"
  },
  "orig_nbformat": 4
 },
 "nbformat": 4,
 "nbformat_minor": 2
}
